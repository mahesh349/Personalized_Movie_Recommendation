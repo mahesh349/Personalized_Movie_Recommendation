{
  "nbformat": 4,
  "nbformat_minor": 0,
  "metadata": {
    "colab": {
      "provenance": []
    },
    "kernelspec": {
      "name": "python3",
      "display_name": "Python 3"
    },
    "language_info": {
      "name": "python"
    }
  },
  "cells": [
    {
      "cell_type": "code",
      "execution_count": null,
      "metadata": {
        "colab": {
          "base_uri": "https://localhost:8080/"
        },
        "id": "6v_5X7wlskC3",
        "outputId": "d8f31353-4a45-46eb-bb79-b2cbc100fc2c"
      },
      "outputs": [
        {
          "output_type": "stream",
          "name": "stdout",
          "text": [
            "good mornning\n"
          ]
        }
      ],
      "source": [
        "print(\"good mornning\")"
      ]
    },
    {
      "cell_type": "code",
      "source": [
        "import pandas as pd\n",
        "import numpy as np\n",
        "import matplotlib.pyplot as plt\n",
        "import seaborn as sns\n",
        "from sklearn.model_selection import train_test_split\n",
        "from sklearn.metrics import mean_squared_error, mean_absolute_error\n",
        "import nltk\n",
        "from nltk.sentiment.vader import SentimentIntensityAnalyzer\n",
        "nltk.download('vader_lexicon')\n",
        "import tensorflow as tf\n"
      ],
      "metadata": {
        "colab": {
          "base_uri": "https://localhost:8080/"
        },
        "id": "NDauJQq5s99n",
        "outputId": "cb3e3a59-14a0-4446-efe2-1e66d1d68eb2"
      },
      "execution_count": null,
      "outputs": [
        {
          "output_type": "stream",
          "name": "stderr",
          "text": [
            "[nltk_data] Downloading package vader_lexicon to /root/nltk_data...\n"
          ]
        }
      ]
    },
    {
      "cell_type": "markdown",
      "source": [
        "<h2>Load the Data</h2>"
      ],
      "metadata": {
        "id": "UBcneeSvuiNw"
      }
    },
    {
      "cell_type": "code",
      "source": [
        "# Define file paths for each dataset\n",
        "ratings_file = 'ratings.csv'\n",
        "tags_file = 'tags.csv'\n",
        "movies_file = 'movies.csv'\n",
        "links_file = 'links.csv'\n",
        "\n",
        "# Load data into Pandas DataFrames\n",
        "ratings_data = pd.read_csv(ratings_file)\n",
        "tags_data = pd.read_csv(tags_file)\n",
        "movies_data = pd.read_csv(movies_file)\n",
        "links_data = pd.read_csv(links_file)\n",
        "\n",
        "# Display the first few rows of each dataset for verification\n",
        "print(\"Ratings Data:\")\n",
        "print(ratings_data.head())\n",
        "\n",
        "print(\"\\nTags Data:\")\n",
        "print(tags_data.head())\n",
        "\n",
        "print(\"\\nMovies Data:\")\n",
        "print(movies_data.head())\n",
        "\n",
        "print(\"\\nLinks Data:\")\n",
        "print(links_data.head())"
      ],
      "metadata": {
        "colab": {
          "base_uri": "https://localhost:8080/"
        },
        "id": "GiHXPtJxtUeG",
        "outputId": "227c3e1c-fad8-473a-c4c9-76c4f38c09c1"
      },
      "execution_count": null,
      "outputs": [
        {
          "output_type": "stream",
          "name": "stdout",
          "text": [
            "Ratings Data:\n",
            "   userId  movieId  rating  timestamp\n",
            "0       1        1     4.0  964982703\n",
            "1       1        3     4.0  964981247\n",
            "2       1        6     4.0  964982224\n",
            "3       1       47     5.0  964983815\n",
            "4       1       50     5.0  964982931\n",
            "\n",
            "Tags Data:\n",
            "   userId  movieId              tag   timestamp\n",
            "0       2    60756            funny  1445714994\n",
            "1       2    60756  Highly quotable  1445714996\n",
            "2       2    60756     will ferrell  1445714992\n",
            "3       2    89774     Boxing story  1445715207\n",
            "4       2    89774              MMA  1445715200\n",
            "\n",
            "Movies Data:\n",
            "   movieId                               title  \\\n",
            "0        1                    Toy Story (1995)   \n",
            "1        2                      Jumanji (1995)   \n",
            "2        3             Grumpier Old Men (1995)   \n",
            "3        4            Waiting to Exhale (1995)   \n",
            "4        5  Father of the Bride Part II (1995)   \n",
            "\n",
            "                                        genres  \n",
            "0  Adventure|Animation|Children|Comedy|Fantasy  \n",
            "1                   Adventure|Children|Fantasy  \n",
            "2                               Comedy|Romance  \n",
            "3                         Comedy|Drama|Romance  \n",
            "4                                       Comedy  \n",
            "\n",
            "Links Data:\n",
            "   movieId  imdbId   tmdbId\n",
            "0        1  114709    862.0\n",
            "1        2  113497   8844.0\n",
            "2        3  113228  15602.0\n",
            "3        4  114885  31357.0\n",
            "4        5  113041  11862.0\n"
          ]
        }
      ]
    },
    {
      "cell_type": "code",
      "source": [
        "# Load the dataset (replace with your file paths)\n",
        "ratings_data = pd.read_csv('ratings.csv')\n",
        "tags_data = pd.read_csv('tags.csv')\n",
        "movies_data = pd.read_csv('movies.csv')\n",
        "\n",
        "# Explore the Ratings Data\n",
        "print(\"Ratings Data Exploration:\")\n",
        "print(\"Number of Ratings:\", len(ratings_data))\n",
        "print(\"Unique Users:\", ratings_data['userId'].nunique())\n",
        "print(\"Unique Movies:\", ratings_data['movieId'].nunique())\n",
        "print(\"Ratings Distribution:\")\n",
        "print(ratings_data['rating'].value_counts().sort_index())\n",
        "\n",
        "# Explore the Tags Data\n",
        "print(\"\\nTags Data Exploration:\")\n",
        "print(\"Number of Tags:\", len(tags_data))\n",
        "print(\"Unique Users:\", tags_data['userId'].nunique())\n",
        "print(\"Unique Movies:\", tags_data['movieId'].nunique())\n",
        "print(\"Unique Tags:\", tags_data['tag'].nunique())\n",
        "\n",
        "# Explore the Movies Data\n",
        "print(\"\\nMovies Data Exploration:\")\n",
        "print(\"Number of Movies:\", len(movies_data))\n",
        "print(\"Movie Genres:\")\n",
        "genre_counts = movies_data['genres'].str.split('|').explode().value_counts()\n",
        "print(genre_counts)\n",
        "\n",
        "# Additional Exploration (if needed)\n",
        "# - Check for missing values\n",
        "# - Explore timestamp information\n",
        "# - Visualize data distributions (e.g., histograms, bar plots)\n",
        "\n",
        "# Sample visualization (requires matplotlib)\n",
        "# import matplotlib.pyplot as plt\n",
        "# ratings_data['rating'].hist(bins=9, grid=False)\n",
        "# plt.xlabel('Rating')\n",
        "# plt.ylabel('Frequency')\n",
        "# plt.title('Distribution of Ratings')\n",
        "# plt.show()\n"
      ],
      "metadata": {
        "colab": {
          "base_uri": "https://localhost:8080/"
        },
        "id": "zxrTJSayuWaj",
        "outputId": "941e3401-1e4c-4522-cc7e-ea011142229c"
      },
      "execution_count": null,
      "outputs": [
        {
          "output_type": "stream",
          "name": "stdout",
          "text": [
            "Ratings Data Exploration:\n",
            "Number of Ratings: 100836\n",
            "Unique Users: 610\n",
            "Unique Movies: 9724\n",
            "Ratings Distribution:\n",
            "0.5     1370\n",
            "1.0     2811\n",
            "1.5     1791\n",
            "2.0     7551\n",
            "2.5     5550\n",
            "3.0    20047\n",
            "3.5    13136\n",
            "4.0    26818\n",
            "4.5     8551\n",
            "5.0    13211\n",
            "Name: rating, dtype: int64\n",
            "\n",
            "Tags Data Exploration:\n",
            "Number of Tags: 3683\n",
            "Unique Users: 58\n",
            "Unique Movies: 1572\n",
            "Unique Tags: 1589\n",
            "\n",
            "Movies Data Exploration:\n",
            "Number of Movies: 9742\n",
            "Movie Genres:\n",
            "Drama                 4361\n",
            "Comedy                3756\n",
            "Thriller              1894\n",
            "Action                1828\n",
            "Romance               1596\n",
            "Adventure             1263\n",
            "Crime                 1199\n",
            "Sci-Fi                 980\n",
            "Horror                 978\n",
            "Fantasy                779\n",
            "Children               664\n",
            "Animation              611\n",
            "Mystery                573\n",
            "Documentary            440\n",
            "War                    382\n",
            "Musical                334\n",
            "Western                167\n",
            "IMAX                   158\n",
            "Film-Noir               87\n",
            "(no genres listed)      34\n",
            "Name: genres, dtype: int64\n"
          ]
        }
      ]
    },
    {
      "cell_type": "code",
      "source": [
        "# Data Preprocessing for Ratings Data\n",
        "# 1. Handle Missing Values (if any)\n",
        "ratings_data.dropna(inplace=True)\n",
        "\n",
        "# 2. Convert Timestamp to Datetime (if needed)\n",
        "ratings_data['timestamp'] = pd.to_datetime(ratings_data['timestamp'], unit='s')\n",
        "\n",
        "# Data Preprocessing for Tags Data\n",
        "# 1. Handle Missing Values (if any)\n",
        "tags_data.dropna(inplace=True)\n",
        "\n",
        "# Data Preprocessing for Movies Data\n",
        "# 1. Extract Release Year from Title\n",
        "movies_data['year'] = movies_data['title'].str.extract(r'\\((\\d{4})\\)')\n",
        "movies_data['year'] = pd.to_numeric(movies_data['year'], errors='coerce')\n",
        "\n",
        "# 2. Extract Movie Genres into Binary Columns\n",
        "genres = movies_data['genres'].str.split('|')\n",
        "genres = genres.apply(lambda x: '|'.join(sorted(x)))\n",
        "movies_data = pd.concat([movies_data, genres.str.get_dummies()], axis=1)\n",
        "\n",
        "# Sample Data After Preprocessing\n",
        "print(\"Sample Data After Preprocessing:\")\n",
        "print(\"Ratings Data:\")\n",
        "print(ratings_data.head())\n",
        "print(\"\\nTags Data:\")\n",
        "print(tags_data.head())\n",
        "print(\"\\nMovies Data:\")\n",
        "print(movies_data.head())"
      ],
      "metadata": {
        "colab": {
          "base_uri": "https://localhost:8080/"
        },
        "id": "k7eJPEtIvE0H",
        "outputId": "b6d72d78-9688-48c4-8b7a-eb17eb8fe89f"
      },
      "execution_count": null,
      "outputs": [
        {
          "output_type": "stream",
          "name": "stdout",
          "text": [
            "Sample Data After Preprocessing:\n",
            "Ratings Data:\n",
            "   userId  movieId  rating           timestamp\n",
            "0       1        1     4.0 2000-07-30 18:45:03\n",
            "1       1        3     4.0 2000-07-30 18:20:47\n",
            "2       1        6     4.0 2000-07-30 18:37:04\n",
            "3       1       47     5.0 2000-07-30 19:03:35\n",
            "4       1       50     5.0 2000-07-30 18:48:51\n",
            "\n",
            "Tags Data:\n",
            "   userId  movieId              tag   timestamp\n",
            "0       2    60756            funny  1445714994\n",
            "1       2    60756  Highly quotable  1445714996\n",
            "2       2    60756     will ferrell  1445714992\n",
            "3       2    89774     Boxing story  1445715207\n",
            "4       2    89774              MMA  1445715200\n",
            "\n",
            "Movies Data:\n",
            "   movieId                               title  \\\n",
            "0        1                    Toy Story (1995)   \n",
            "1        2                      Jumanji (1995)   \n",
            "2        3             Grumpier Old Men (1995)   \n",
            "3        4            Waiting to Exhale (1995)   \n",
            "4        5  Father of the Bride Part II (1995)   \n",
            "\n",
            "                                        genres    year  (no genres listed)  \\\n",
            "0  Adventure|Animation|Children|Comedy|Fantasy  1995.0                   0   \n",
            "1                   Adventure|Children|Fantasy  1995.0                   0   \n",
            "2                               Comedy|Romance  1995.0                   0   \n",
            "3                         Comedy|Drama|Romance  1995.0                   0   \n",
            "4                                       Comedy  1995.0                   0   \n",
            "\n",
            "   Action  Adventure  Animation  Children  Comedy  ...  Film-Noir  Horror  \\\n",
            "0       0          1          1         1       1  ...          0       0   \n",
            "1       0          1          0         1       0  ...          0       0   \n",
            "2       0          0          0         0       1  ...          0       0   \n",
            "3       0          0          0         0       1  ...          0       0   \n",
            "4       0          0          0         0       1  ...          0       0   \n",
            "\n",
            "   IMAX  Musical  Mystery  Romance  Sci-Fi  Thriller  War  Western  \n",
            "0     0        0        0        0       0         0    0        0  \n",
            "1     0        0        0        0       0         0    0        0  \n",
            "2     0        0        0        1       0         0    0        0  \n",
            "3     0        0        0        1       0         0    0        0  \n",
            "4     0        0        0        0       0         0    0        0  \n",
            "\n",
            "[5 rows x 24 columns]\n"
          ]
        }
      ]
    },
    {
      "cell_type": "code",
      "source": [],
      "metadata": {
        "id": "PxlhSIezvajS"
      },
      "execution_count": null,
      "outputs": []
    }
  ]
}